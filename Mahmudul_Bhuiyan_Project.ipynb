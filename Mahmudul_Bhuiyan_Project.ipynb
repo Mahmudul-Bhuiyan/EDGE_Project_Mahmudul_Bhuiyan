{
 "cells": [
  {
   "cell_type": "code",
   "execution_count": null,
   "id": "a89e00ec",
   "metadata": {},
   "outputs": [
    {
     "name": "stdout",
     "output_type": "stream",
     "text": [
      "Periodic Table Lookup\n",
      "\n",
      "Element Found\n",
      "Name: Lithium\n",
      "Symbol: Li\n",
      "Atomic Mass: 6.94\n"
     ]
    }
   ],
   "source": [
    "# Create a periodic table lookup by inputing the atomic number and result will show there name, symbol as well as atomic mass number.\n",
    "print(\"Periodic Table Lookup\")\n",
    "\n",
    "# Index = atomic number\n",
    "# Each element = [Name, Symbol, Atomic Mass]\n",
    "elements = [\n",
    "    None,  # index 0 (not used)\n",
    "    [\"Hydrogen\", \"H\", 1.008],\n",
    "    [\"Helium\", \"He\", 4.0026],\n",
    "    [\"Lithium\", \"Li\", 6.94],\n",
    "    [\"Beryllium\", \"Be\", 9.0122],\n",
    "    [\"Boron\", \"B\", 10.81],\n",
    "    [\"Carbon\", \"C\", 12.011],\n",
    "    [\"Nitrogen\", \"N\", 14.007],\n",
    "    [\"Oxygen\", \"O\", 15.999],\n",
    "    [\"Fluorine\", \"F\", 18.998],\n",
    "    [\"Neon\", \"Ne\", 20.180]\n",
    "]\n",
    "\n",
    "# Get user input\n",
    "user_input = input(\"\\nEnter atomic number (1-10): \")\n",
    "\n",
    "# Validate input\n",
    "if user_input.strip() == \"\" or not user_input.isdigit():\n",
    "    print(\"Please enter a valid number.\")\n",
    "else:\n",
    "    atomic_number = int(user_input)\n",
    "\n",
    "    if 0 <= atomic_number < len(elements):\n",
    "        element = elements[atomic_number]\n",
    "        print(\"\\nElement Found\")\n",
    "        print(\"Name:\", element[0])\n",
    "        print(\"Symbol:\", element[1])\n",
    "        print(\"Atomic Mass:\", element[2])\n",
    "    else:\n",
    "        print(\"Invalid atomic number.\")\n"
   ]
  }
 ],
 "metadata": {
  "kernelspec": {
   "display_name": "Python 3",
   "language": "python",
   "name": "python3"
  },
  "language_info": {
   "codemirror_mode": {
    "name": "ipython",
    "version": 3
   },
   "file_extension": ".py",
   "mimetype": "text/x-python",
   "name": "python",
   "nbconvert_exporter": "python",
   "pygments_lexer": "ipython3",
   "version": "3.13.5"
  }
 },
 "nbformat": 4,
 "nbformat_minor": 5
}
